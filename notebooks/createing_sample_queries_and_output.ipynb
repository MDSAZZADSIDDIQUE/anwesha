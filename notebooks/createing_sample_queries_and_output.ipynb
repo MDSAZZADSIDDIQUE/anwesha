{
 "cells": [
  {
   "cell_type": "code",
   "execution_count": 2,
   "id": "d39c1f90",
   "metadata": {},
   "outputs": [
    {
     "data": {
      "text/plain": [
       "True"
      ]
     },
     "execution_count": 2,
     "metadata": {},
     "output_type": "execute_result"
    }
   ],
   "source": [
    "from dotenv import load_dotenv\n",
    "load_dotenv()"
   ]
  },
  {
   "cell_type": "code",
   "execution_count": 3,
   "id": "4b78319d",
   "metadata": {},
   "outputs": [],
   "source": [
    "persist_directory = \"../database/anwesha_chroma_)db\""
   ]
  },
  {
   "cell_type": "code",
   "execution_count": 4,
   "id": "c7e4a3e3",
   "metadata": {},
   "outputs": [],
   "source": [
    "from langchain_community.vectorstores import Chroma\n",
    "from langchain_huggingface import HuggingFaceEmbeddings"
   ]
  },
  {
   "cell_type": "code",
   "execution_count": 5,
   "id": "8d5eae1c",
   "metadata": {},
   "outputs": [],
   "source": [
    "embeddings = HuggingFaceEmbeddings(\n",
    "    model_name=\"intfloat/multilingual-e5-large-instruct\"\n",
    ")"
   ]
  },
  {
   "cell_type": "code",
   "execution_count": 6,
   "id": "a702624c",
   "metadata": {},
   "outputs": [
    {
     "name": "stderr",
     "output_type": "stream",
     "text": [
      "C:\\Users\\mdsaz\\AppData\\Local\\Temp\\ipykernel_2360\\2851879184.py:1: LangChainDeprecationWarning: The class `Chroma` was deprecated in LangChain 0.2.9 and will be removed in 1.0. An updated version of the class exists in the :class:`~langchain-chroma package and should be used instead. To use it run `pip install -U :class:`~langchain-chroma` and import as `from :class:`~langchain_chroma import Chroma``.\n",
      "  vectorstore = Chroma(\n"
     ]
    }
   ],
   "source": [
    "vectorstore = Chroma(\n",
    "    persist_directory=persist_directory,\n",
    "    embedding_function=embeddings\n",
    ")"
   ]
  },
  {
   "cell_type": "code",
   "execution_count": 7,
   "id": "72b0ee29",
   "metadata": {},
   "outputs": [],
   "source": [
    "retriever = vectorstore.as_retriever()"
   ]
  },
  {
   "cell_type": "code",
   "execution_count": 8,
   "id": "a12af12d",
   "metadata": {},
   "outputs": [],
   "source": [
    "from langchain import hub"
   ]
  },
  {
   "cell_type": "code",
   "execution_count": 9,
   "id": "6082000f",
   "metadata": {},
   "outputs": [],
   "source": [
    "prompt = hub.pull(\"rlm/rag-prompt\")"
   ]
  },
  {
   "cell_type": "code",
   "execution_count": 10,
   "id": "7ce8fcd7",
   "metadata": {},
   "outputs": [],
   "source": [
    "def format_docs(docs):\n",
    "    return \"\\n\\n\".join(doc.page_content for doc in docs)"
   ]
  },
  {
   "cell_type": "code",
   "execution_count": 11,
   "id": "89c16382",
   "metadata": {},
   "outputs": [],
   "source": [
    "from langchain_groq import ChatGroq\n",
    "\n",
    "llm = ChatGroq(\n",
    "    model=\"moonshotai/kimi-k2-instruct\",\n",
    ")"
   ]
  },
  {
   "cell_type": "code",
   "execution_count": 12,
   "id": "c3fef003",
   "metadata": {},
   "outputs": [],
   "source": [
    "from langchain_core.runnables import RunnablePassthrough\n",
    "from langchain_core.prompts import ChatPromptTemplate\n",
    "from langchain_core.output_parsers import StrOutputParser\n",
    "rag_chain = (\n",
    "    {\"context\": retriever | format_docs, \"question\": RunnablePassthrough()}\n",
    "    | prompt\n",
    "    | llm\n",
    "    | StrOutputParser()\n",
    ")"
   ]
  },
  {
   "cell_type": "code",
   "execution_count": 13,
   "id": "b8924bb5",
   "metadata": {},
   "outputs": [
    {
     "data": {
      "text/plain": [
       "'অনুপম তার মামার চেয়ে বছর ছয়েকের ছোট ছিল।'"
      ]
     },
     "execution_count": 13,
     "metadata": {},
     "output_type": "execute_result"
    }
   ],
   "source": [
    "rag_chain.invoke(\"অনুপম তার মামার চেয়ে কত বছরের ছোট ছিল?\")"
   ]
  },
  {
   "cell_type": "code",
   "execution_count": 14,
   "id": "9cd3d1b3",
   "metadata": {},
   "outputs": [],
   "source": [
    "from langchain_openai import ChatOpenAI\n",
    "from langchain_core.output_parsers import StrOutputParser\n",
    "from langchain.prompts import ChatPromptTemplate\n",
    "\n",
    "template = \"\"\"You are an AI language model assistant. Your task is to generate five \n",
    "different versions of the given user question to retrieve relevant documents from a vector \n",
    "database. By generating multiple perspectives on the user question, your goal is to help\n",
    "the user overcome some of the limitations of the distance-based similarity search. \n",
    "Provide these alternative questions separated by newlines. Original question: {question}\"\"\"\n",
    "prompt_perspectives = ChatPromptTemplate.from_template(template)\n",
    "\n",
    "\n",
    "generate_queries = (\n",
    "    prompt_perspectives\n",
    "    | ChatGroq(model=\"moonshotai/kimi-k2-instruct\",)\n",
    "    | StrOutputParser()\n",
    "    | (lambda x: x.split(\"\\n\"))\n",
    ")"
   ]
  },
  {
   "cell_type": "code",
   "execution_count": 15,
   "id": "45e255e8",
   "metadata": {},
   "outputs": [
    {
     "data": {
      "text/plain": [
       "7"
      ]
     },
     "execution_count": 15,
     "metadata": {},
     "output_type": "execute_result"
    }
   ],
   "source": [
    "from langchain.load import dumps, loads\n",
    "\n",
    "\n",
    "def get_unique_union(documents: list[list]):\n",
    "    flattened_docs = [dumps(doc) for sublist in documents for doc in sublist]\n",
    "    unique_docs = list(set(flattened_docs))\n",
    "    return [loads(doc) for doc in unique_docs]\n",
    "\n",
    "\n",
    "question = \"অনুপম তার মামার চেয়ে কত বছরের ছোট ছিল?\"\n",
    "retrieval_chain = generate_queries | retriever.map() | get_unique_union\n",
    "docs = retrieval_chain.invoke({\"question\": question})\n",
    "len(docs)"
   ]
  },
  {
   "cell_type": "code",
   "execution_count": 16,
   "id": "4d3306fb",
   "metadata": {},
   "outputs": [
    {
     "data": {
      "text/plain": [
       "'অনুপম তার মামার চেয়ে **বছর ছয়েক** ছোট ছিল।'"
      ]
     },
     "execution_count": 16,
     "metadata": {},
     "output_type": "execute_result"
    }
   ],
   "source": [
    "from operator import itemgetter\n",
    "from langchain_openai import ChatOpenAI\n",
    "from langchain_core.runnables import RunnablePassthrough\n",
    "\n",
    "template = \"\"\"Answer the following question based on this context:\n",
    "\n",
    "{context}\n",
    "\n",
    "Question: {question}\n",
    "\"\"\"\n",
    "\n",
    "prompt = ChatPromptTemplate.from_template(template)\n",
    "\n",
    "llm = ChatGroq(\n",
    "    model=\"moonshotai/kimi-k2-instruct\",\n",
    ")\n",
    "\n",
    "final_rag_chain = (\n",
    "    {\"context\": retrieval_chain,\n",
    "     \"question\": itemgetter(\"question\")}\n",
    "    | prompt\n",
    "    | llm\n",
    "    | StrOutputParser()\n",
    ")\n",
    "\n",
    "final_rag_chain.invoke({\"question\": question})"
   ]
  },
  {
   "cell_type": "code",
   "execution_count": 17,
   "id": "7e47cfa4",
   "metadata": {},
   "outputs": [],
   "source": [
    "sample_queries = [\n",
    "    \"অপরিচিতা' গল্পে, অনুপমের মতে কে আসর জমাতে অদ্বিতীয়?\",\n",
    "    \"অনুপম তার মামার চেয়ে কত বছরের ছোট ছিল?\",\n",
    "    \"মন্দ নয় হে! খাঁটি সোনা বটে!' - এই উক্তিটি কার?\",\n",
    "    \"কল্যাণীর বাবার নাম কী?\",\n",
    "    \"বিবাহ-উপলক্ষ্যে কন্যাপক্ষকে কোথায় আসতে হয়েছিল?\",\n",
    "    \"শম্ভুনাথ সেন পেশায় কী ছিলেন?\",\n",
    "    \"অনুপম এবং তার মা কোন বাহনে তীর্থে যাচ্ছিলেন?\",\n",
    "    \"রেলগাড়িতে কল্যাণীর সাথে কয়টি ছোট ছোট মেয়ে ছিল?\",\n",
    "    \"বিবাহ ভাঙার পর কল্যাণী কী ব্রত গ্রহণ করে?\",\n",
    "    \"গল্পের শেষে অনুপমের বয়স কত?\"\n",
    "]"
   ]
  },
  {
   "cell_type": "code",
   "execution_count": 18,
   "id": "8f32531d",
   "metadata": {},
   "outputs": [],
   "source": [
    "expected_responses = []"
   ]
  },
  {
   "cell_type": "code",
   "execution_count": 19,
   "id": "2c30b50c",
   "metadata": {},
   "outputs": [],
   "source": [
    "for query in sample_queries:\n",
    "    response = final_rag_chain.invoke({\"question\": query})\n",
    "    expected_responses.append(response)"
   ]
  },
  {
   "cell_type": "code",
   "execution_count": null,
   "id": "e7dfe5a2",
   "metadata": {},
   "outputs": [
    {
     "data": {
      "text/plain": [
       "['\"অপরিচিতা\" গল্পে, অনুপমের মতে **হরিশ** আসর জমাতে অদ্বিতীয়।',\n",
       " \"'অপরিচিতা' গল্প অনুযায়ী, অনুপম তার মামার চেয়ে **বছর ছয়েক** ছোট ছিল।\",\n",
       " 'এই উক্তিটি **বিনুদাদার**।',\n",
       " 'কল্যাণীর বাবার নাম **শম্ভুনাথ সেন**।',\n",
       " 'বিবাহ-উপলক্ষ্যে কন্যাপক্ষকে **কলিকাতা** (কলকাতা) আসতে হয়েছিল।',\n",
       " 'শম্ভুনাথ সেন পেশায় **উকিল** ছিলেন।',\n",
       " 'উত্তর: **(গ) মোটর গাড়ি**',\n",
       " 'উত্তর: ৩/৪ জন (অপশন খ)।',\n",
       " 'বিবাহ ভাঙার পর কল্যাণী **অবিবাহিতা** ব্রত গ্রহণ করে।',\n",
       " 'গল্পের শেষে অনুপমের বয়স **২৮ বছর**।']"
      ]
     },
     "execution_count": 20,
     "metadata": {},
     "output_type": "execute_result"
    }
   ],
   "source": [
    "sample_queries = [\n",
    "    \"অপরিচিতা' গল্পে, অনুপমের মতে কে আসর জমাতে অদ্বিতীয়?\",\n",
    "    \"অনুপম তার মামার চেয়ে কত বছরের ছোট ছিল?\",\n",
    "    \"মন্দ নয় হে! খাঁটি সোনা বটে!' - এই উক্তিটি কার?\",\n",
    "    \"কল্যাণীর বাবার নাম কী?\",\n",
    "    \"বিবাহ-উপলক্ষ্যে কন্যাপক্ষকে কোথায় আসতে হয়েছিল?\",\n",
    "    \"শম্ভুনাথ সেন পেশায় কী ছিলেন?\",\n",
    "    \"অনুপম এবং তার মা কোন বাহনে তীর্থে যাচ্ছিলেন?\",\n",
    "    \"রেলগাড়িতে কল্যাণীর সাথে কয়টি ছোট ছোট মেয়ে ছিল?\",\n",
    "    \"বিবাহ ভাঙার পর কল্যাণী কী ব্রত গ্রহণ করে?\",\n",
    "    \"গল্পের শেষে অনুপমের বয়স কত?\"\n",
    "]\n",
    "expected_responses = []\n",
    "for query in sample_queries:\n",
    "    response = final_rag_chain.invoke({\"question\": query})\n",
    "    expected_responses.append(response)\n",
    "expected_responses"
   ]
  },
  {
   "cell_type": "code",
   "execution_count": null,
   "id": "9b7dc480",
   "metadata": {},
   "outputs": [],
   "source": [
    "\n",
    "\n",
    "expected_responses = [\n",
    "    \"হরিশ\",\n",
    "    \"বছর ছয়েক\",\n",
    "    \"বিনুদা\",\n",
    "    \"শম্ভুনাথ সেন\",\n",
    "    \"কলিকাতা\",\n",
    "    \"ডাক্তার\",\n",
    "    \"রেলগাড়ি\",\n",
    "    \"দুটি-তিনটি\",\n",
    "    \"মেয়েদের শিক্ষার ব্রত\",\n",
    "    \"সাতাশ\"\n",
    "]"
   ]
  }
 ],
 "metadata": {
  "kernelspec": {
   "display_name": "Python 3",
   "language": "python",
   "name": "python3"
  },
  "language_info": {
   "codemirror_mode": {
    "name": "ipython",
    "version": 3
   },
   "file_extension": ".py",
   "mimetype": "text/x-python",
   "name": "python",
   "nbconvert_exporter": "python",
   "pygments_lexer": "ipython3",
   "version": "3.13.5"
  }
 },
 "nbformat": 4,
 "nbformat_minor": 5
}

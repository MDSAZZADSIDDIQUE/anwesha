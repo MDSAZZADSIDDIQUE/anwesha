{
 "cells": [
  {
   "cell_type": "code",
   "execution_count": 3,
   "id": "0c8d37a3",
   "metadata": {},
   "outputs": [],
   "source": [
    "from langchain_community.document_loaders import PyPDFLoader\n",
    "\n",
    "file_path = \"../data/HSC26-Bangla1st-Paper.pdf\"\n",
    "loader = PyPDFLoader(file_path)"
   ]
  },
  {
   "cell_type": "code",
   "execution_count": 4,
   "id": "dab7c2d0",
   "metadata": {},
   "outputs": [
    {
     "data": {
      "text/plain": [
       "Document(metadata={'producer': 'Microsoft® PowerPoint® for Microsoft 365', 'creator': 'Microsoft® PowerPoint® for Microsoft 365', 'creationdate': '2024-05-13T16:30:00+06:00', 'title': 'PowerPoint Presentation', 'author': 'tariq@10minuteschool.com', 'moddate': '2024-05-13T16:30:00+06:00', 'source': '../data/HSC26-Bangla1st-Paper.pdf', 'total_pages': 49, 'page': 0, 'page_label': '1'}, page_content='অনলাইন ব্যাচ সম্পর্কিত যেককাকনা জিজ্ঞাাসা ,\\nঅপরিরিতা\\nআল ািয রিষয়\\nিাাং া\\n১ম পত্র')"
      ]
     },
     "execution_count": 4,
     "metadata": {},
     "output_type": "execute_result"
    }
   ],
   "source": [
    "docs = loader.load()\n",
    "docs[0]"
   ]
  },
  {
   "cell_type": "code",
   "execution_count": 5,
   "id": "a6622b40",
   "metadata": {},
   "outputs": [
    {
     "name": "stdout",
     "output_type": "stream",
     "text": [
      "{'producer': 'Microsoft® PowerPoint® for Microsoft 365',\n",
      " 'creator': 'Microsoft® PowerPoint® for Microsoft 365',\n",
      " 'creationdate': '2024-05-13T16:30:00+06:00',\n",
      " 'title': 'PowerPoint Presentation',\n",
      " 'author': 'tariq@10minuteschool.com',\n",
      " 'moddate': '2024-05-13T16:30:00+06:00',\n",
      " 'source': '../data/HSC26-Bangla1st-Paper.pdf',\n",
      " 'total_pages': 49,\n",
      " 'page': 0,\n",
      " 'page_label': '1'}\n"
     ]
    }
   ],
   "source": [
    "import pprint\n",
    "\n",
    "pprint.pp(docs[0].metadata)"
   ]
  }
 ],
 "metadata": {
  "kernelspec": {
   "display_name": "Python 3",
   "language": "python",
   "name": "python3"
  },
  "language_info": {
   "codemirror_mode": {
    "name": "ipython",
    "version": 3
   },
   "file_extension": ".py",
   "mimetype": "text/x-python",
   "name": "python",
   "nbconvert_exporter": "python",
   "pygments_lexer": "ipython3",
   "version": "3.13.5"
  }
 },
 "nbformat": 4,
 "nbformat_minor": 5
}

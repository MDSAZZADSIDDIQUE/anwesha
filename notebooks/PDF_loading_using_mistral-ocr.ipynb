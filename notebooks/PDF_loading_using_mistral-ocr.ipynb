{
 "cells": [
  {
   "cell_type": "code",
   "execution_count": 1,
   "id": "bddfb126",
   "metadata": {},
   "outputs": [],
   "source": [
    "# Initialize Mistral client with API key\n",
    "from mistralai import Mistral\n",
    "\n",
    "api_key = \"GjCuR9k3gQTL9BcLRWCqpX8gQy22S25d\"  # Replace with your API key\n",
    "client = Mistral(api_key=api_key)"
   ]
  },
  {
   "cell_type": "code",
   "execution_count": 2,
   "id": "b35ba532",
   "metadata": {},
   "outputs": [
    {
     "name": "stdout",
     "output_type": "stream",
     "text": [
      "{\n",
      "    \"pages\": [\n",
      "        {\n",
      "            \"index\": 0,\n",
      "            \"markdown\": \"# 10 MINUTE SCHOOL \\n\\n## HSC 26 <br> \\u0985\\u09a8\\u09b2\\u09be\\u0987\\u09a8 \\u09ac\\u09cd\\u09af\\u09be\\u099a <br> \\u09ac\\u09be\\u0982\\u09b2\\u09be - \\u0987\\u0982\\u09b0\\u09c7\\u099c\\u09bf - \\u0986\\u0987\\u09b8\\u09bf\\u099f\\u09bf\\n\\n## \\u09ac\\u09be\\u0982\\u09b2\\u09be <br> \\u09e7\\u09ae \\u09aa\\u09a4\\u09cd\\u09b0\\n\\n\\u0986\\u09b2\\u09cb\\u099a\\u09cd\\u09af \\u09ac\\u09bf\\u09b7\\u09af\\u09bc\\n\\n## \\u0985\\u09aa\\u09b0\\u09bf\\u099a\\u09bf\\u09a4\\u09be\\n\\n\\u0985\\u09a8\\u09b2\\u09be\\u0987\\u09a8 \\u09ac\\u09cd\\u09af\\u09be\\u099a \\u09b8\\u09ae\\u09cd\\u09aa\\u09b0\\u09cd\\u0995\\u09bf\\u09a4 \\u09af\\u09c7\\u0995\\u09cb\\u09a8\\u09cb \\u099c\\u09bf\\u099c\\u09cd\\u099e\\u09be\\u09b8\\u09be\\u09af\\u09bc,\",\n",
      "            \"images\": [],\n",
      "            \"dimensions\": {\n",
      "                \"dpi\": 200,\n",
      "                \"height\": 2167,\n",
      "                \"width\": 1500\n",
      "            }\n",
      "        },\n",
      "        {\n",
      "            \"index\": 1,\n",
      "            \"markdown\": \"# \\u09b6\\u09bf\\u0996\\u09a8\\u09ab\\u09b2 \\n\\n\n"
     ]
    }
   ],
   "source": [
    "from pathlib import Path\n",
    "from mistralai import DocumentURLChunk\n",
    "import json\n",
    "\n",
    "pdf_file = Path(\"../data/HSC26-Bangla1st-Paper.pdf\")\n",
    "assert pdf_file.is_file()\n",
    "\n",
    "uploaded_file = client.files.upload(\n",
    "    file={\n",
    "        \"file_name\": pdf_file.stem,\n",
    "        \"content\": pdf_file.read_bytes(),\n",
    "    },\n",
    "    purpose=\"ocr\",\n",
    ")\n",
    "\n",
    "signed_url = client.files.get_signed_url(file_id=uploaded_file.id, expiry=1)\n",
    "\n",
    "pdf_response = client.ocr.process(\n",
    "    document=DocumentURLChunk(document_url=signed_url.url),\n",
    "    model=\"mistral-ocr-latest\",\n",
    "    include_image_base64=True\n",
    ")\n",
    "\n",
    "response_dict = json.loads(pdf_response.model_dump_json())\n",
    "\n",
    "print(json.dumps(response_dict, indent=4)[0:1000])"
   ]
  }
 ],
 "metadata": {
  "kernelspec": {
   "display_name": "Python 3",
   "language": "python",
   "name": "python3"
  },
  "language_info": {
   "codemirror_mode": {
    "name": "ipython",
    "version": 3
   },
   "file_extension": ".py",
   "mimetype": "text/x-python",
   "name": "python",
   "nbconvert_exporter": "python",
   "pygments_lexer": "ipython3",
   "version": "3.13.5"
  }
 },
 "nbformat": 4,
 "nbformat_minor": 5
}

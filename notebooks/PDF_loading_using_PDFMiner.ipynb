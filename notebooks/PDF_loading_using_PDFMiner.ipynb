{
 "cells": [
  {
   "cell_type": "code",
   "execution_count": 2,
   "id": "2bbb1769",
   "metadata": {},
   "outputs": [],
   "source": [
    "from langchain_community.document_loaders import PDFMinerLoader\n",
    "\n",
    "file_path = \"../data/HSC26-Bangla1st-Paper.pdf\"\n",
    "loader = PDFMinerLoader(file_path)"
   ]
  },
  {
   "cell_type": "code",
   "execution_count": 3,
   "id": "159e1e0a",
   "metadata": {},
   "outputs": [
    {
     "ename": "ImportError",
     "evalue": "pdfminer package not found, please install it with `pip install pdfminer.six`",
     "output_type": "error",
     "traceback": [
      "\u001b[31m---------------------------------------------------------------------------\u001b[39m",
      "\u001b[31mImportError\u001b[39m                               Traceback (most recent call last)",
      "\u001b[36mFile \u001b[39m\u001b[32mc:\\Users\\mdsaz\\Artificial Intelligence\\anwesha\\venv\\Lib\\site-packages\\langchain_community\\document_loaders\\parsers\\pdf.py:715\u001b[39m, in \u001b[36mPDFMinerParser.lazy_parse\u001b[39m\u001b[34m(self, blob)\u001b[39m\n\u001b[32m    714\u001b[39m     \u001b[38;5;28;01mif\u001b[39;00m \u001b[38;5;28mint\u001b[39m(pdfminer.__version__) < \u001b[32m20201018\u001b[39m:\n\u001b[32m--> \u001b[39m\u001b[32m715\u001b[39m         \u001b[38;5;28;01mraise\u001b[39;00m \u001b[38;5;167;01mImportError\u001b[39;00m(\n\u001b[32m    716\u001b[39m             \u001b[33m\"\u001b[39m\u001b[33mThis parser is tested with pdfminer.six version 20201018 or \u001b[39m\u001b[33m\"\u001b[39m\n\u001b[32m    717\u001b[39m             \u001b[33m\"\u001b[39m\u001b[33mlater. Remove pdfminer, and install pdfminer.six with \u001b[39m\u001b[33m\"\u001b[39m\n\u001b[32m    718\u001b[39m             \u001b[33m\"\u001b[39m\u001b[33m`pip uninstall pdfminer && pip install pdfminer.six`.\u001b[39m\u001b[33m\"\u001b[39m\n\u001b[32m    719\u001b[39m         )\n\u001b[32m    720\u001b[39m \u001b[38;5;28;01mexcept\u001b[39;00m \u001b[38;5;167;01mImportError\u001b[39;00m:\n",
      "\u001b[31mImportError\u001b[39m: This parser is tested with pdfminer.six version 20201018 or later. Remove pdfminer, and install pdfminer.six with `pip uninstall pdfminer && pip install pdfminer.six`.",
      "\nDuring handling of the above exception, another exception occurred:\n",
      "\u001b[31mImportError\u001b[39m                               Traceback (most recent call last)",
      "\u001b[36mCell\u001b[39m\u001b[36m \u001b[39m\u001b[32mIn[3]\u001b[39m\u001b[32m, line 1\u001b[39m\n\u001b[32m----> \u001b[39m\u001b[32m1\u001b[39m docs = \u001b[43mloader\u001b[49m\u001b[43m.\u001b[49m\u001b[43mload\u001b[49m\u001b[43m(\u001b[49m\u001b[43m)\u001b[49m\n\u001b[32m      2\u001b[39m docs[\u001b[32m0\u001b[39m]\n",
      "\u001b[36mFile \u001b[39m\u001b[32mc:\\Users\\mdsaz\\Artificial Intelligence\\anwesha\\venv\\Lib\\site-packages\\langchain_core\\document_loaders\\base.py:32\u001b[39m, in \u001b[36mBaseLoader.load\u001b[39m\u001b[34m(self)\u001b[39m\n\u001b[32m     30\u001b[39m \u001b[38;5;28;01mdef\u001b[39;00m\u001b[38;5;250m \u001b[39m\u001b[34mload\u001b[39m(\u001b[38;5;28mself\u001b[39m) -> \u001b[38;5;28mlist\u001b[39m[Document]:\n\u001b[32m     31\u001b[39m \u001b[38;5;250m    \u001b[39m\u001b[33;03m\"\"\"Load data into Document objects.\"\"\"\u001b[39;00m\n\u001b[32m---> \u001b[39m\u001b[32m32\u001b[39m     \u001b[38;5;28;01mreturn\u001b[39;00m \u001b[38;5;28;43mlist\u001b[39;49m\u001b[43m(\u001b[49m\u001b[38;5;28;43mself\u001b[39;49m\u001b[43m.\u001b[49m\u001b[43mlazy_load\u001b[49m\u001b[43m(\u001b[49m\u001b[43m)\u001b[49m\u001b[43m)\u001b[49m\n",
      "\u001b[36mFile \u001b[39m\u001b[32mc:\\Users\\mdsaz\\Artificial Intelligence\\anwesha\\venv\\Lib\\site-packages\\langchain_community\\document_loaders\\pdf.py:676\u001b[39m, in \u001b[36mPDFMinerLoader.lazy_load\u001b[39m\u001b[34m(self)\u001b[39m\n\u001b[32m    674\u001b[39m \u001b[38;5;28;01melse\u001b[39;00m:\n\u001b[32m    675\u001b[39m     blob = Blob.from_path(\u001b[38;5;28mself\u001b[39m.file_path)\n\u001b[32m--> \u001b[39m\u001b[32m676\u001b[39m \u001b[38;5;28;01myield from\u001b[39;00m \u001b[38;5;28mself\u001b[39m.parser.lazy_parse(blob)\n",
      "\u001b[36mFile \u001b[39m\u001b[32mc:\\Users\\mdsaz\\Artificial Intelligence\\anwesha\\venv\\Lib\\site-packages\\langchain_community\\document_loaders\\parsers\\pdf.py:721\u001b[39m, in \u001b[36mPDFMinerParser.lazy_parse\u001b[39m\u001b[34m(self, blob)\u001b[39m\n\u001b[32m    715\u001b[39m         \u001b[38;5;28;01mraise\u001b[39;00m \u001b[38;5;167;01mImportError\u001b[39;00m(\n\u001b[32m    716\u001b[39m             \u001b[33m\"\u001b[39m\u001b[33mThis parser is tested with pdfminer.six version 20201018 or \u001b[39m\u001b[33m\"\u001b[39m\n\u001b[32m    717\u001b[39m             \u001b[33m\"\u001b[39m\u001b[33mlater. Remove pdfminer, and install pdfminer.six with \u001b[39m\u001b[33m\"\u001b[39m\n\u001b[32m    718\u001b[39m             \u001b[33m\"\u001b[39m\u001b[33m`pip uninstall pdfminer && pip install pdfminer.six`.\u001b[39m\u001b[33m\"\u001b[39m\n\u001b[32m    719\u001b[39m         )\n\u001b[32m    720\u001b[39m \u001b[38;5;28;01mexcept\u001b[39;00m \u001b[38;5;167;01mImportError\u001b[39;00m:\n\u001b[32m--> \u001b[39m\u001b[32m721\u001b[39m     \u001b[38;5;28;01mraise\u001b[39;00m \u001b[38;5;167;01mImportError\u001b[39;00m(\n\u001b[32m    722\u001b[39m         \u001b[33m\"\u001b[39m\u001b[33mpdfminer package not found, please install it \u001b[39m\u001b[33m\"\u001b[39m\n\u001b[32m    723\u001b[39m         \u001b[33m\"\u001b[39m\u001b[33mwith `pip install pdfminer.six`\u001b[39m\u001b[33m\"\u001b[39m\n\u001b[32m    724\u001b[39m     )\n\u001b[32m    726\u001b[39m \u001b[38;5;28;01mwith\u001b[39;00m blob.as_bytes_io() \u001b[38;5;28;01mas\u001b[39;00m pdf_file_obj, TemporaryDirectory() \u001b[38;5;28;01mas\u001b[39;00m tempdir:\n\u001b[32m    727\u001b[39m     pages = PDFPage.get_pages(pdf_file_obj, password=\u001b[38;5;28mself\u001b[39m.password \u001b[38;5;129;01mor\u001b[39;00m \u001b[33m\"\u001b[39m\u001b[33m\"\u001b[39m)\n",
      "\u001b[31mImportError\u001b[39m: pdfminer package not found, please install it with `pip install pdfminer.six`"
     ]
    }
   ],
   "source": [
    "docs = loader.load()\n",
    "docs[0]"
   ]
  }
 ],
 "metadata": {
  "kernelspec": {
   "display_name": "Python 3",
   "language": "python",
   "name": "python3"
  },
  "language_info": {
   "codemirror_mode": {
    "name": "ipython",
    "version": 3
   },
   "file_extension": ".py",
   "mimetype": "text/x-python",
   "name": "python",
   "nbconvert_exporter": "python",
   "pygments_lexer": "ipython3",
   "version": "3.13.5"
  }
 },
 "nbformat": 4,
 "nbformat_minor": 5
}

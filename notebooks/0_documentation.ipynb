{
 "cells": [
  {
   "cell_type": "markdown",
   "id": "82f65600",
   "metadata": {},
   "source": [
    "Submission Requirements - Source code (on GitHub Public Repo) & README file with: \n",
    "○ Setup guide \n",
    "○ Used tools,library,package \n",
    "○ Sample queries and outputs (Bangla & English) \n",
    "○ API Documentation (if implement) \n",
    "○ Evaluation Matrix (if implement) \n",
    "○ Must Answer following Questions \n",
    "○ What method or library did you use to extract the text, and why? Did you face \n",
    "any formatting challenges with the PDF content? \n",
    "○ What chunking strategy did you choose (e.g. paragraph-based, \n",
    "sentence-based, character limit)? Why do you think it works well for semantic \n",
    "retrieval? \n",
    "○ What embedding model did you use? Why did you choose it? How does it \n",
    "capture the meaning of the text? \n",
    "○ How are you comparing the query with your stored chunks? Why did you \n",
    "choose this similarity method and storage setup? \n",
    "○ How do you ensure that the question and the document chunks are compared \n",
    "meaningfully? What would happen if the query is vague or missing context? \n",
    "○ Do the results seem relevant? If not, what might improve them (e.g. better \n",
    "chunking, better embedding model, larger document)?"
   ]
  },
  {
   "cell_type": "code",
   "execution_count": null,
   "id": "4995f082",
   "metadata": {
    "vscode": {
     "languageId": "plaintext"
    }
   },
   "outputs": [],
   "source": [
    "sample_queries = [\n",
    "    \"অনুপমের ভাষায় সুপুরুষ কাকে বলা হয়েছে?\",\n",
    "    \"কাকে অনুপমের ভাগ্য দেবতা বলে উল্লেখ করা হয়েছে?\",\n",
    "    \"বিয়ের সময় কল্যাণীর প্রকৃত বয়স কত ছিল?\"\n",
    "]\n",
    "\n",
    "expected_responses = [\n",
    "    \"শম্ভুনাথ\",\n",
    "    \"মামাকে\",\n",
    "    \"১৫ বছর\"\n",
    "]"
   ]
  }
 ],
 "metadata": {
  "language_info": {
   "name": "python"
  }
 },
 "nbformat": 4,
 "nbformat_minor": 5
}

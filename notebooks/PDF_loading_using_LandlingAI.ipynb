{
 "cells": [
  {
   "cell_type": "code",
   "execution_count": 1,
   "id": "a906c511",
   "metadata": {},
   "outputs": [
    {
     "data": {
      "text/plain": [
       "True"
      ]
     },
     "execution_count": 1,
     "metadata": {},
     "output_type": "execute_result"
    }
   ],
   "source": [
    "from dotenv import load_dotenv\n",
    "load_dotenv()"
   ]
  },
  {
   "cell_type": "code",
   "execution_count": 2,
   "id": "29f906a2",
   "metadata": {},
   "outputs": [
    {
     "name": "stdout",
     "output_type": "stream",
     "text": [
      "2025-07-24 18:35:42 [info   ] Settings loaded: {\n",
      "  \"endpoint_host\": \"https://api.va.landing.ai\",\n",
      "  \"vision_agent_api_key\": \"aGNpe[REDACTED]\",\n",
      "  \"batch_size\": 4,\n",
      "  \"max_workers\": 5,\n",
      "  \"max_retries\": 100,\n",
      "  \"max_retry_wait_time\": 60,\n",
      "  \"retry_logging_style\": \"log_msg\",\n",
      "  \"pdf_to_image_dpi\": 96,\n",
      "  \"split_size\": 10,\n",
      "  \"extraction_split_size\": 50\n",
      "} [agentic_doc.config] (config.py:170)\n",
      "2025-07-24 18:35:44 [info   ] API key is valid.              [agentic_doc.utils] (utils.py:42)\n",
      "2025-07-24 18:35:44 [info   ] Parsing 1 documents            [agentic_doc.parse] (parse.py:280)\n",
      "2025-07-24 18:35:45 [info   ] Splitting PDF: '..\\data\\raw\\HSC26-Bangla1st-Paper.pdf' into 4 parts under 'C:\\Users\\mdsaz\\AppData\\Local\\Temp\\tmpp1pjgjrw' [agentic_doc.utils] (utils.py:236)\n"
     ]
    },
    {
     "name": "stderr",
     "output_type": "stream",
     "text": [
      "Parsing documents:   0%|          | 0/1 [00:00<?, ?it/s]"
     ]
    },
    {
     "name": "stdout",
     "output_type": "stream",
     "text": [
      "2025-07-24 18:35:45 [info   ] Created C:\\Users\\mdsaz\\AppData\\Local\\Temp\\tmpp1pjgjrw\\HSC26-Bangla1st-Paper_1.pdf [agentic_doc.utils] (utils.py:252)\n",
      "2025-07-24 18:35:45 [info   ] Created C:\\Users\\mdsaz\\AppData\\Local\\Temp\\tmpp1pjgjrw\\HSC26-Bangla1st-Paper_2.pdf [agentic_doc.utils] (utils.py:252)\n",
      "2025-07-24 18:35:45 [info   ] Created C:\\Users\\mdsaz\\AppData\\Local\\Temp\\tmpp1pjgjrw\\HSC26-Bangla1st-Paper_3.pdf [agentic_doc.utils] (utils.py:252)\n",
      "2025-07-24 18:35:45 [info   ] Created C:\\Users\\mdsaz\\AppData\\Local\\Temp\\tmpp1pjgjrw\\HSC26-Bangla1st-Paper_4.pdf [agentic_doc.utils] (utils.py:252)\n",
      "2025-07-24 18:35:45 [info   ] Created C:\\Users\\mdsaz\\AppData\\Local\\Temp\\tmpp1pjgjrw\\HSC26-Bangla1st-Paper_5.pdf [agentic_doc.utils] (utils.py:252)\n",
      "2025-07-24 18:35:45 [info   ] Start parsing document part: 'File name: HSC26-Bangla1st-Paper_1.pdf\tPage: [0:9]'"
     ]
    },
    {
     "name": "stderr",
     "output_type": "stream",
     "text": [
      "\n"
     ]
    },
    {
     "name": "stdout",
     "output_type": "stream",
     "text": [
      " [agentic_doc.parse"
     ]
    },
    {
     "name": "stderr",
     "output_type": "stream",
     "text": [
      "Parsing document parts from 'HSC26-Bangla1st-Paper.pdf':   0%|          | 0/5 [00:00<?, ?it/s]"
     ]
    },
    {
     "name": "stdout",
     "output_type": "stream",
     "text": [
      "] (parse.py:670)\n",
      "2025-07-24 18:35:45 [info   ] Start parsing document part: 'File name: HSC26-Bangla1st-Paper_2.pdf\tPage: [10:19]' [agentic_doc.parse] (parse.py:670)\n",
      "2025-07-24 18:35:45 [info   ] Start parsing document part: 'File name: HSC26-Bangla1st-Paper_3.pdf\tPage: [20:29]' [agentic_doc.parse] (parse.py:670)\n",
      "2025-07-24 18:35:45 [info   ] Start parsing document part: 'File name: HSC26-Bangla1st-Paper_4.pdf\tPage: [30:39]' [agentic_doc.parse] (parse.py:670)\n",
      "2025-07-24 18:35:45 [info   ] Start parsing document part: 'File name: HSC26-Bangla1st-Paper_5.pdf\tPage: [40:48]' [agentic_doc.parse] (parse.py:670)\n",
      "HTTP Request: POST https://api.va.landing.ai/v1/tools/agentic-document-analysis \"HTTP/1.1 200 OK\" (_client.py:1025)\n",
      "2025-07-24 18:36:17 [info   ] Time taken to successfully parse a document chunk: 31.88 seconds [agentic_doc.parse] (parse.py:823)\n",
      "2025-07-24 18:36:17 [info   ] Successfully parsed document part: 'File name: HSC26-Bangla1st-Paper_4.pdf\tPage: [30:39]' [agentic_doc.parse] (parse.py:679)\n",
      "HTTP Request: POST https://api.va.landing.ai/v1/tools/agentic-document-analysis \"HTTP/1.1 200 OK\" (_client.py:1025)\n",
      "2025-07-24 18:36:19 [info   ] Time taken to successfully parse a document chunk: 34.48 seconds [agentic_doc.parse] (parse.py:823)\n",
      "2025-07-24 18:36:19 [info   ] Successfully parsed document part: 'File name: HSC26-Bangla1st-Paper_5.pdf\tPage: [40:48]' [agentic_doc.parse] (parse.py:679)\n",
      "HTTP Request: POST https://api.va.landing.ai/v1/tools/agentic-document-analysis \"HTTP/1.1 200 OK\" (_client.py:1025)\n",
      "2025-07-24 18:36:21 [info   ] Time taken to successfully parse a document chunk: 36.10 seconds [agentic_doc.parse] (parse.py:823)\n",
      "2025-07-24 18:36:21 [info   ] Successfully parsed document part: 'File name: HSC26-Bangla1st-Paper_3.pdf\tPage: [20:29]' [agentic_doc.parse] (parse.py:679)\n",
      "HTTP Request: POST https://api.va.landing.ai/v1/tools/agentic-document-analysis \"HTTP/1.1 200 OK\" (_client.py:1025)\n",
      "2025-07-24 18:36:33 [info   ] Time taken to successfully parse a document chunk: 48.36 seconds [agentic_doc.parse] (parse.py:823)\n",
      "2025-07-24 18:36:33 [info   ] Successfully parsed document part: 'File name: HSC26-Bangla1st-Paper_2.pdf\tPage: [10:19]' [agentic_doc.parse] (parse.py:679)\n",
      "HTTP Request: POST https://api.va.landing.ai/v1/tools/agentic-document-analysis \"HTTP/1.1 200 OK\" (_client.py:1025)\n",
      "2025-07-24 18:36:40 [info   ] Time taken to successfully parse a document chunk: 55.33 seconds [agentic_doc.parse] (parse.py:823)\n",
      "2025-07-24 18:36:40 [info   ] Successfully parsed document part: 'File name: HSC26-Bangla1st-Paper_1.pdf\tPage: [0:9]' [agentic_doc.parse] (parse.py:679)\n"
     ]
    },
    {
     "name": "stderr",
     "output_type": "stream",
     "text": [
      "\n",
      "Parsing document parts from 'HSC26-Bangla1st-Paper.pdf': 100%|██████████| 5/5 [00:55<00:00, 11.07s/it]\n",
      "Parsing documents: 100%|██████████| 1/1 [00:55<00:00, 55.64s/it]\n"
     ]
    }
   ],
   "source": [
    "from agentic_doc.parse import parse\n",
    "\n",
    "result = parse(\"../data/raw/HSC26-Bangla1st-Paper.pdf\",\n",
    "               include_marginalia=False, include_metadata_in_markdown=False)\n",
    "parsed_doc = result[0]\n",
    "\n",
    "markdown_content = parsed_doc.markdown\n",
    "\n",
    "with open(\"../data/processed/output.md\", \"w\") as f:\n",
    "    f.write(markdown_content)"
   ]
  }
 ],
 "metadata": {
  "kernelspec": {
   "display_name": "Python 3",
   "language": "python",
   "name": "python3"
  },
  "language_info": {
   "codemirror_mode": {
    "name": "ipython",
    "version": 3
   },
   "file_extension": ".py",
   "mimetype": "text/x-python",
   "name": "python",
   "nbconvert_exporter": "python",
   "pygments_lexer": "ipython3",
   "version": "3.13.5"
  }
 },
 "nbformat": 4,
 "nbformat_minor": 5
}

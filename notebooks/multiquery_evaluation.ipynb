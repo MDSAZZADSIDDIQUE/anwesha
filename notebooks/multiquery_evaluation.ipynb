{
 "cells": [
  {
   "cell_type": "code",
   "execution_count": 1,
   "id": "4a1af836",
   "metadata": {},
   "outputs": [],
   "source": [
    "from langchain_huggingface import HuggingFaceEmbeddings\n",
    "\n",
    "embeddings = HuggingFaceEmbeddings(\n",
    "    model_name=\"intfloat/multilingual-e5-large-instruct\")"
   ]
  },
  {
   "cell_type": "code",
   "execution_count": 2,
   "id": "fc60ff45",
   "metadata": {},
   "outputs": [],
   "source": [
    "from langchain_community.vectorstores import Chroma"
   ]
  },
  {
   "cell_type": "code",
   "execution_count": 4,
   "id": "ea07128a",
   "metadata": {},
   "outputs": [],
   "source": [
    "persist_directory = \"../database/anwesha_chroma\"\n",
    "vectorstore = Chroma(\n",
    "    persist_directory=persist_directory, embedding_function=embeddings)\n",
    "retriever = vectorstore.as_retriever()"
   ]
  },
  {
   "cell_type": "code",
   "execution_count": 5,
   "id": "997057e0",
   "metadata": {},
   "outputs": [],
   "source": [
    "from langchain_groq import ChatGroq\n",
    "\n",
    "llm = ChatGroq(\n",
    "    model=\"moonshotai/kimi-k2-instruct\",\n",
    ")"
   ]
  },
  {
   "cell_type": "code",
   "execution_count": 6,
   "id": "eb7d547e",
   "metadata": {},
   "outputs": [],
   "source": [
    "from langchain import hub"
   ]
  },
  {
   "cell_type": "code",
   "execution_count": 7,
   "id": "423aa01f",
   "metadata": {},
   "outputs": [],
   "source": [
    "prompt = hub.pull(\"rlm/rag-prompt\")"
   ]
  },
  {
   "cell_type": "code",
   "execution_count": 8,
   "id": "7717a7ca",
   "metadata": {},
   "outputs": [],
   "source": [
    "def format_docs(docs):\n",
    "    return \"\\n\\n\".join(doc.page_content for doc in docs)"
   ]
  },
  {
   "cell_type": "code",
   "execution_count": 10,
   "id": "2a969912",
   "metadata": {},
   "outputs": [],
   "source": [
    "from langchain_core.runnables import RunnablePassthrough\n",
    "from langchain_core.prompts import ChatPromptTemplate\n",
    "from langchain_core.output_parsers import StrOutputParser\n",
    "rag_chain = (\n",
    "    {\"context\": retriever | format_docs, \"question\": RunnablePassthrough()}\n",
    "    | prompt\n",
    "    | llm\n",
    "    | StrOutputParser()\n",
    ")"
   ]
  },
  {
   "cell_type": "code",
   "execution_count": 11,
   "id": "7d49da90",
   "metadata": {},
   "outputs": [
    {
     "data": {
      "text/plain": [
       "'প্রশ্ন ১০-এর উত্তর অনুযায়ী, অনুপম তার মামার চেয়ে **বছর ছয়েক** ছোট ছিল।'"
      ]
     },
     "execution_count": 11,
     "metadata": {},
     "output_type": "execute_result"
    }
   ],
   "source": [
    "rag_chain.invoke(\"অনুপম তার মামার চেয়ে কত বছরের ছোট ছিল?\")"
   ]
  },
  {
   "cell_type": "code",
   "execution_count": 14,
   "id": "4ee4d7e6",
   "metadata": {},
   "outputs": [],
   "source": [
    "from langchain_openai import ChatOpenAI\n",
    "from langchain_core.output_parsers import StrOutputParser\n",
    "from langchain.prompts import ChatPromptTemplate\n",
    "\n",
    "template = \"\"\"You are an AI language model assistant. Your task is to generate five \n",
    "different versions of the given user question to retrieve relevant documents from a vector \n",
    "database. By generating multiple perspectives on the user question, your goal is to help\n",
    "the user overcome some of the limitations of the distance-based similarity search. \n",
    "Provide these alternative questions separated by newlines. Original question: {question}\"\"\"\n",
    "prompt_perspectives = ChatPromptTemplate.from_template(template)\n",
    "\n",
    "\n",
    "generate_queries = (\n",
    "    prompt_perspectives\n",
    "    | ChatGroq(model=\"moonshotai/kimi-k2-instruct\",)\n",
    "    | StrOutputParser()\n",
    "    | (lambda x: x.split(\"\\n\"))\n",
    ")"
   ]
  },
  {
   "cell_type": "code",
   "execution_count": 15,
   "id": "365de1d1",
   "metadata": {},
   "outputs": [
    {
     "data": {
      "text/plain": [
       "5"
      ]
     },
     "execution_count": 15,
     "metadata": {},
     "output_type": "execute_result"
    }
   ],
   "source": [
    "from langchain.load import dumps, loads\n",
    "\n",
    "\n",
    "def get_unique_union(documents: list[list]):\n",
    "    flattened_docs = [dumps(doc) for sublist in documents for doc in sublist]\n",
    "    unique_docs = list(set(flattened_docs))\n",
    "    return [loads(doc) for doc in unique_docs]\n",
    "\n",
    "\n",
    "question = \"অনুপম তার মামার চেয়ে কত বছরের ছোট ছিল?\"\n",
    "retrieval_chain = generate_queries | retriever.map() | get_unique_union\n",
    "docs = retrieval_chain.invoke({\"question\": question})\n",
    "len(docs)"
   ]
  },
  {
   "cell_type": "code",
   "execution_count": 16,
   "id": "bc658d90",
   "metadata": {},
   "outputs": [
    {
     "data": {
      "text/plain": [
       "[Document(metadata={'id': '65980bbb-7895-41b1-a526-012fe8172e86'}, page_content='১৪। মামা কেন মেয়ের পক্ষে পক্ষে করতেন?  \\n(ক) ধনী (খ) গরিব (গ) প্রমীণ (ঘ) শখলে  \\n\\n১৫। অনুপমের বন্ধুর নাম কি?  \\n(ক) সজল (খ) জ্যোতিষ (গ) হরিশ (ঘ) মণীষ  \\n\\n১৬। মেয়ের চেয়ে মামার বয়সে খুরবচাই ফার কাছ গুরত্ব?  \\n(ক) হরিশের (খ) অনুপমের (গ) মামার (ঘ) ঘটকের'),\n",
       " Document(metadata={'id': '65980bbb-7895-41b1-a526-012fe8172e86'}, page_content='i. মামাই অনুপমের অভিভাবক  \\nii. তিনি অনুপমের চেয়ে বড়ভাইর বছর ছয়েকের বড়  \\niii. ফজলুল বালিশ মতে তিনি অনুপমের সংসার আয়কড়ে আছেন  \\n\\nনিচের কোনটি সঠিক?  \\n(ক) i, ii  \\n(খ) i, iii  \\n(গ) ii, iii  \\n(ঘ) i, ii, iii  \\n\\n২২। মামার পছন্দের মেয়ের এমন-'),\n",
       " Document(metadata={'id': '65980bbb-7895-41b1-a526-012fe8172e86'}, page_content='৪৫। মাটু-বালকে কল্যাণী কার প্রতি ঈর্ষিত করেছে?\\n\\n(ক) মায়ের প্রতি     (খ) মাধুরীর প্রতি     (গ) ধনীর প্রতি     (ঘ) অনুপমের প্রতি\\n\\n৪৬। বিনুর অনুপমের পুত্রের বয়স কত ছিল?\\n\\n(ক) ২০ বছর     (খ) ২২ বছর     (গ) ২৫ বছর     (ঘ) ২৭ বছর\\n\\n৪৭। অনুপমের মেজো পুত্রের নাম কী?'),\n",
       " Document(metadata={'id': '65980bbb-7895-41b1-a526-012fe8172e86'}, page_content='৫। অনুপমের বয়স কত বছর?\\n\\nক) পঁচিশ খ) ছাব্বিশ গ) সাতাশ ঘ) আটাশ\\n\\n## কতগুলো প্রশ্নের সঠিক উত্তর দিতে পারলে?'),\n",
       " Document(metadata={'id': '65980bbb-7895-41b1-a526-012fe8172e86'}, page_content=\"১০। 'অপরিচিতা' গল্পে মামার সাথে অনুপমের বয়সের পার্থক্য কত?  \\n(ক) বছর চারেক (খ) বছর ছয়েক (গ) বছর আটেক (ঘ) বছর দশেক  \\n\\n১১। বন্যার সিপাহশালার কোনটি শীর্ষক করবেন?  \\n(ক) অনুপম চরিত্র (খ) অনুপম সংলাপ  \\n(গ) অনুপম রূপসালাপ (ঘ) অনুপম ব্যক্তিত্বসম্পন্ন\")]"
      ]
     },
     "execution_count": 16,
     "metadata": {},
     "output_type": "execute_result"
    }
   ],
   "source": [
    "docs"
   ]
  },
  {
   "cell_type": "code",
   "execution_count": 18,
   "id": "9623a6e6",
   "metadata": {},
   "outputs": [
    {
     "data": {
      "text/plain": [
       "'উত্তর: বছর ছয়েক।'"
      ]
     },
     "execution_count": 18,
     "metadata": {},
     "output_type": "execute_result"
    }
   ],
   "source": [
    "from operator import itemgetter\n",
    "from langchain_openai import ChatOpenAI\n",
    "from langchain_core.runnables import RunnablePassthrough\n",
    "\n",
    "template = \"\"\"Answer the following question based on this context:\n",
    "\n",
    "{context}\n",
    "\n",
    "Question: {question}\n",
    "\"\"\"\n",
    "\n",
    "prompt = ChatPromptTemplate.from_template(template)\n",
    "\n",
    "llm = ChatGroq(\n",
    "    model=\"moonshotai/kimi-k2-instruct\",\n",
    ")\n",
    "\n",
    "final_rag_chain = (\n",
    "    {\"context\": retrieval_chain,\n",
    "     \"question\": itemgetter(\"question\")}\n",
    "    | prompt\n",
    "    | llm\n",
    "    | StrOutputParser()\n",
    ")\n",
    "\n",
    "final_rag_chain.invoke({\"question\": question})"
   ]
  },
  {
   "cell_type": "code",
   "execution_count": 19,
   "id": "6db0c8e1",
   "metadata": {},
   "outputs": [],
   "source": [
    "sample_queries = [\n",
    "    \"অপরিচিতা' গল্পে, অনুপমের মতে কে আসর জমাতে অদ্বিতীয়?\",\n",
    "    \"অনুপম তার মামার চেয়ে কত বছরের ছোট ছিল?\",\n",
    "    \"মন্দ নয় হে! খাঁটি সোনা বটে!' - এই উক্তিটি কার?\",\n",
    "    \"কল্যাণীর বাবার নাম কী?\",\n",
    "    \"বিবাহ-উপলক্ষ্যে কন্যাপক্ষকে কোথায় আসতে হয়েছিল?\",\n",
    "    \"শম্ভুনাথ সেন পেশায় কী ছিলেন?\",\n",
    "    \"অনুপম এবং তার মা কোন বাহনে তীর্থে যাচ্ছিলেন?\",\n",
    "    \"রেলগাড়িতে কল্যাণীর সাথে কয়টি ছোট ছোট মেয়ে ছিল?\",\n",
    "    \"বিবাহ ভাঙার পর কল্যাণী কী ব্রত গ্রহণ করে?\",\n",
    "    \"গল্পের শেষে অনুপমের বয়স কত?\"\n",
    "]\n",
    "\n",
    "expected_responses = [\n",
    "    \"হরিশ\",\n",
    "    \"বছর ছয়েক\",\n",
    "    \"বিনুদা\",\n",
    "    \"শম্ভুনাথ সেন\",\n",
    "    \"কলিকাতা\",\n",
    "    \"ডাক্তার\",\n",
    "    \"রেলগাড়ি\",\n",
    "    \"দুটি-তিনটি\",\n",
    "    \"মেয়েদের শিক্ষার ব্রত\",\n",
    "    \"সাতাশ\"\n",
    "]"
   ]
  },
  {
   "cell_type": "code",
   "execution_count": 24,
   "id": "5ace2e67",
   "metadata": {},
   "outputs": [],
   "source": [
    "from ragas import EvaluationDataset\n",
    "\n",
    "\n",
    "dataset = []\n",
    "\n",
    "for query, reference in zip(sample_queries, expected_responses):\n",
    "    relevant_docs = retriever.invoke(query)\n",
    "    response = final_rag_chain.invoke({\"question\": query})\n",
    "    dataset.append(\n",
    "        {\n",
    "            \"user_input\": query,\n",
    "            \"retrieved_contexts\": [rdoc.page_content for rdoc in relevant_docs],\n",
    "            \"response\": response,\n",
    "            \"reference\": reference,\n",
    "        }\n",
    "    )\n",
    "\n",
    "evaluation_dataset = EvaluationDataset.from_list(dataset)"
   ]
  },
  {
   "cell_type": "code",
   "execution_count": null,
   "id": "33e93368",
   "metadata": {},
   "outputs": [],
   "source": [
    "from ragas import evaluate\n",
    "from ragas.llms import LangchainLLMWrapper\n",
    "from ragas.metrics import LLMContextRecall, Faithfulness, FactualCorrectness\n",
    "\n",
    "evaluator_llm = LangchainLLMWrapper(llm)\n",
    "\n",
    "result = evaluate(\n",
    "    dataset=evaluation_dataset,\n",
    "    metrics=[LLMContextRecall(), Faithfulness(), FactualCorrectness()],\n",
    "    llm=evaluator_llm,\n",
    ")\n",
    "\n",
    "result"
   ]
  }
 ],
 "metadata": {
  "kernelspec": {
   "display_name": "Python 3",
   "language": "python",
   "name": "python3"
  },
  "language_info": {
   "codemirror_mode": {
    "name": "ipython",
    "version": 3
   },
   "file_extension": ".py",
   "mimetype": "text/x-python",
   "name": "python",
   "nbconvert_exporter": "python",
   "pygments_lexer": "ipython3",
   "version": "3.13.5"
  }
 },
 "nbformat": 4,
 "nbformat_minor": 5
}

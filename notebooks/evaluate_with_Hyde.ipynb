{
 "cells": [
  {
   "cell_type": "code",
   "execution_count": 1,
   "id": "2a70fb86",
   "metadata": {},
   "outputs": [
    {
     "name": "stderr",
     "output_type": "stream",
     "text": [
      "C:\\Users\\mdsaz\\AppData\\Local\\Temp\\ipykernel_14292\\2632607041.py:7: LangChainDeprecationWarning: The class `Chroma` was deprecated in LangChain 0.2.9 and will be removed in 1.0. An updated version of the class exists in the :class:`~langchain-chroma package and should be used instead. To use it run `pip install -U :class:`~langchain-chroma` and import as `from :class:`~langchain_chroma import Chroma``.\n",
      "  vectorstore = Chroma(\n"
     ]
    }
   ],
   "source": [
    "from langchain_community.vectorstores import Chroma\n",
    "from langchain_huggingface import HuggingFaceEmbeddings\n",
    "\n",
    "embeddings = HuggingFaceEmbeddings(\n",
    "    model_name=\"intfloat/multilingual-e5-large-instruct\")\n",
    "persist_directory = \"../database/anwesha_chroma\"\n",
    "vectorstore = Chroma(\n",
    "    persist_directory=persist_directory, embedding_function=embeddings)\n",
    "retriever = vectorstore.as_retriever()"
   ]
  },
  {
   "cell_type": "code",
   "execution_count": 5,
   "id": "f1c5343b",
   "metadata": {},
   "outputs": [
    {
     "data": {
      "text/plain": [
       "[Document(metadata={'id': '65980bbb-7895-41b1-a526-012fe8172e86'}, page_content=\"১০। 'অপরিচিতা' গল্পে মামার সাথে অনুপমের বয়সের পার্থক্য কত?  \\n(ক) বছর চারেক (খ) বছর ছয়েক (গ) বছর আটেক (ঘ) বছর দশেক  \\n\\n১১। বন্যার সিপাহশালার কোনটি শীর্ষক করবেন?  \\n(ক) অনুপম চরিত্র (খ) অনুপম সংলাপ  \\n(গ) অনুপম রূপসালাপ (ঘ) অনুপম ব্যক্তিত্বসম্পন্ন\"),\n",
       " Document(metadata={'id': '65980bbb-7895-41b1-a526-012fe8172e86'}, page_content='১৪। মামা কেন মেয়ের পক্ষে পক্ষে করতেন?  \\n(ক) ধনী (খ) গরিব (গ) প্রমীণ (ঘ) শখলে  \\n\\n১৫। অনুপমের বন্ধুর নাম কি?  \\n(ক) সজল (খ) জ্যোতিষ (গ) হরিশ (ঘ) মণীষ  \\n\\n১৬। মেয়ের চেয়ে মামার বয়সে খুরবচাই ফার কাছ গুরত্ব?  \\n(ক) হরিশের (খ) অনুপমের (গ) মামার (ঘ) ঘটকের'),\n",
       " Document(metadata={'id': '65980bbb-7895-41b1-a526-012fe8172e86'}, page_content='আমার তখন বয়স তিন বছর। মার হাতেই আমি মানুষ। মা পরিবারের ঘরের মেয়ে; তাই, আমার যে মনি এ কথা তিনিও ভুলেন না, আমাকে ভুলিতে দেন না। শৈশবকালে আমি কোলেই মানুষ-বোধ করি, সেইজন্য এ পর্যন্ত আমার পুরাপুরি বয়সই ইহা নাই।\\n\\n**আজও আমাকে দেখিলে মনে হইবে, আমি অল্পবয়সী কোল গাছগাছের ছোটো ভাইটি।**'),\n",
       " Document(metadata={'id': '65980bbb-7895-41b1-a526-012fe8172e86'}, page_content=\"১৭। অনুপমের শিক্ষাগত যোগ্যতা কি?  \\n(ক) বি এ পাস (খ) এম এ পাস (গ) বিএসসি পাস (ঘ) এমএসসি পাস  \\n\\n১৮। 'মেয়ে যদি বলে, তবে' উক্তিটি কার?  \\n(ক) অনুপমের (খ) হরিবেশ (গ) শঙ্কুবাবুর (ঘ) মামার  \\n\\n১৯। 'অপরিচিতা' গল্পে রসিক মনের মানুষ কে?  \\n(ক) অনুপম (খ) ঘটক (গ) হরিশ (ঘ) মামা\")]"
      ]
     },
     "execution_count": 5,
     "metadata": {},
     "output_type": "execute_result"
    }
   ],
   "source": [
    "# Retrieve\n",
    "retrieval_chain = generate_docs_for_retrieval | retriever\n",
    "retrieved_docs = retrieval_chain.invoke({\"question\": question})\n",
    "retrieved_docs"
   ]
  },
  {
   "cell_type": "code",
   "execution_count": 2,
   "id": "b515f848",
   "metadata": {},
   "outputs": [
    {
     "data": {
      "text/plain": [
       "'ছোটবেলায় অনুপম প্রায়ই শুনত, “তোমার মামা যখন ক্লাস এইটে পড়ত, তুমি তখন হামাগুড়ি দিতে শেখো।”  \\n\\nএকদিন সে মামাকে জিজ্ঞেস করল, “মামা, আমি আপনার চেয়ে কত বছরের ছোট?”  \\nমামা হেসে বলল, “যখন আমি জন্ম নিলাম, আমার বোন—তোমার মা—ছিল তিন বছরের। আর তিনি যখন তোমার জন্ম দিলেন, তখন আমার বয়স ছিল ঠিক সেই তিন বছর আর আট মাস।”  \\n\\nঅনুপম হিসেব করে দেখল, মামার জন্মের তিন বছর পর তার মা জন্মেছেন, আর তার মা জন্মের আট মাস পর তিনি নিজে জন্মেছেন। অর্থাৎ মামার চেয়ে সে মোট তিন বছর আর আট মাসের ছোট।\\n\\nতাই অনুপম তার মামার চেয়ে **৩ বছর ৮ মাস** ছোট ছিল।'"
      ]
     },
     "execution_count": 2,
     "metadata": {},
     "output_type": "execute_result"
    }
   ],
   "source": [
    "from langchain_openai import ChatOpenAI\n",
    "from langchain_core.output_parsers import StrOutputParser\n",
    "from langchain.prompts import ChatPromptTemplate\n",
    "from langchain_groq import ChatGroq\n",
    "# HyDE document generation\n",
    "template = \"\"\"Please write a short story to answer the question\n",
    "Question: {question}\n",
    "Passage:\"\"\"\n",
    "prompt_hyde = ChatPromptTemplate.from_template(template)\n",
    "\n",
    "\n",
    "generate_docs_for_retrieval = (\n",
    "    prompt_hyde | ChatGroq(\n",
    "        model=\"moonshotai/kimi-k2-instruct\",\n",
    "    ) | StrOutputParser()\n",
    ")\n",
    "\n",
    "# Run\n",
    "question = \"অনুপম তার মামার চেয়ে কত বছরের ছোট ছিল?\"\n",
    "generate_docs_for_retrieval.invoke({\"question\": question})"
   ]
  },
  {
   "cell_type": "code",
   "execution_count": 6,
   "id": "fb9cfd7d",
   "metadata": {},
   "outputs": [
    {
     "data": {
      "text/plain": [
       "\"প্রশ্ন: অনুপম তার মামার চেয়ে কত বছরের ছোট ছিল?\\n\\nউত্তর: 'অপরিচিতা' গল্পে মামার সাথে অনুপমের বয়সের পার্থক্য **বছর ছয়েক**।\""
      ]
     },
     "execution_count": 6,
     "metadata": {},
     "output_type": "execute_result"
    }
   ],
   "source": [
    "# RAG\n",
    "llm = ChatGroq(\n",
    "    model=\"moonshotai/kimi-k2-instruct\",\n",
    ")\n",
    "template = \"\"\"Answer the following question based on this context:\n",
    "\n",
    "{context}\n",
    "\n",
    "Question: {question}\n",
    "\"\"\"\n",
    "\n",
    "prompt = ChatPromptTemplate.from_template(template)\n",
    "\n",
    "final_rag_chain = (\n",
    "    prompt\n",
    "    | llm\n",
    "    | StrOutputParser()\n",
    ")\n",
    "\n",
    "final_rag_chain.invoke({\"context\": retrieved_docs, \"question\": question})"
   ]
  }
 ],
 "metadata": {
  "kernelspec": {
   "display_name": "Python 3",
   "language": "python",
   "name": "python3"
  },
  "language_info": {
   "codemirror_mode": {
    "name": "ipython",
    "version": 3
   },
   "file_extension": ".py",
   "mimetype": "text/x-python",
   "name": "python",
   "nbconvert_exporter": "python",
   "pygments_lexer": "ipython3",
   "version": "3.13.5"
  }
 },
 "nbformat": 4,
 "nbformat_minor": 5
}

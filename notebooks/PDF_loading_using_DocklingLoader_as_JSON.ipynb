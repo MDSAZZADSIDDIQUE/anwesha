{
 "cells": [
  {
   "cell_type": "code",
   "execution_count": 1,
   "id": "f6050594",
   "metadata": {},
   "outputs": [
    {
     "data": {
      "text/plain": [
       "True"
      ]
     },
     "execution_count": 1,
     "metadata": {},
     "output_type": "execute_result"
    }
   ],
   "source": [
    "from dotenv import load_dotenv\n",
    "load_dotenv()"
   ]
  },
  {
   "cell_type": "code",
   "execution_count": 1,
   "id": "421d7ef6",
   "metadata": {},
   "outputs": [
    {
     "name": "stdout",
     "output_type": "stream",
     "text": [
      "2025-07-24 19:22:07 [info   ] Settings loaded: {\n",
      "  \"endpoint_host\": \"https://api.va.landing.ai\",\n",
      "  \"vision_agent_api_key\": \"aGNpe[REDACTED]\",\n",
      "  \"batch_size\": 4,\n",
      "  \"max_workers\": 5,\n",
      "  \"max_retries\": 100,\n",
      "  \"max_retry_wait_time\": 60,\n",
      "  \"retry_logging_style\": \"log_msg\",\n",
      "  \"pdf_to_image_dpi\": 96,\n",
      "  \"split_size\": 10,\n",
      "  \"extraction_split_size\": 50\n",
      "} [agentic_doc.config] (config.py:170)\n"
     ]
    }
   ],
   "source": [
    "from agentic_doc.parse import parse"
   ]
  },
  {
   "cell_type": "code",
   "execution_count": 2,
   "id": "91786644",
   "metadata": {},
   "outputs": [
    {
     "name": "stdout",
     "output_type": "stream",
     "text": [
      "2025-07-24 19:23:26 [info   ] API key is valid.              [agentic_doc.utils] (utils.py:42)\n",
      "2025-07-24 19:23:26 [info   ] Parsing 1 documents            [agentic_doc.parse] (parse.py:348)\n",
      "2025-07-24 19:23:26 [info   ] Splitting PDF: '..\\data\\raw\\HSC26-Bangla1st-Paper.pdf' into 4 parts under 'C:\\Users\\mdsaz\\AppData\\Local\\Temp\\tmp3hwj0nfq' [agentic_doc.utils] (utils.py:236)\n"
     ]
    },
    {
     "name": "stderr",
     "output_type": "stream",
     "text": [
      "Parsing documents:   0%|          | 0/1 [00:00<?, ?it/s]"
     ]
    },
    {
     "name": "stdout",
     "output_type": "stream",
     "text": [
      "2025-07-24 19:23:26 [info   ] Created C:\\Users\\mdsaz\\AppData\\Local\\Temp\\tmp3hwj0nfq\\HSC26-Bangla1st-Paper_1.pdf [agentic_doc.utils] (utils.py:252)\n",
      "2025-07-24 19:23:26 [info   ] Created C:\\Users\\mdsaz\\AppData\\Local\\Temp\\tmp3hwj0nfq\\HSC26-Bangla1st-Paper_2.pdf [agentic_doc.utils] (utils.py:252)\n",
      "2025-07-24 19:23:26 [info   ] Created C:\\Users\\mdsaz\\AppData\\Local\\Temp\\tmp3hwj0nfq\\HSC26-Bangla1st-Paper_3.pdf [agentic_doc.utils] (utils.py:252)\n",
      "2025-07-24 19:23:26 [info   ] Created C:\\Users\\mdsaz\\AppData\\Local\\Temp\\tmp3hwj0nfq\\HSC26-Bangla1st-Paper_4.pdf [agentic_doc.utils] (utils.py:252)\n",
      "2025-07-24 19:23:26 [info   ] Created C:\\Users\\mdsaz\\AppData\\Local\\Temp\\tmp3hwj0nfq\\HSC26-Bangla1st-Paper_5.pdf [agentic_doc.utils] (utils.py:252)\n",
      "2025-07-24 19:23:26 [info   ] Start parsing document part: 'File name: HSC26-Bangla1st-Paper_1.pdf\tPage: [0:9]' [agentic_doc.parse"
     ]
    },
    {
     "name": "stderr",
     "output_type": "stream",
     "text": [
      "\n"
     ]
    },
    {
     "name": "stdout",
     "output_type": "stream",
     "text": [
      "] (parse.py:670)\n"
     ]
    },
    {
     "name": "stderr",
     "output_type": "stream",
     "text": [
      "Parsing document parts from 'HSC26-Bangla1st-Paper.pdf':   0%|          | 0/5 [00:00<?, ?it/s]"
     ]
    },
    {
     "name": "stdout",
     "output_type": "stream",
     "text": [
      "2025-07-24 19:23:26 [info   ] Start parsing document part: 'File name: HSC26-Bangla1st-Paper_2.pdf\tPage: [10:19]' [agentic_doc.parse] (parse.py:670)\n",
      "2025-07-24 19:23:26 [info   ] Start parsing document part: 'File name: HSC26-Bangla1st-Paper_3.pdf\tPage: [20:29]' [agentic_doc.parse] (parse.py:670)\n",
      "2025-07-24 19:23:26 [info   ] Start parsing document part: 'File name: HSC26-Bangla1st-Paper_4.pdf\tPage: [30:39]' [agentic_doc.parse] (parse.py:670)\n",
      "2025-07-24 19:23:26 [info   ] Start parsing document part: 'File name: HSC26-Bangla1st-Paper_5.pdf\tPage: [40:48]' [agentic_doc.parse] (parse.py:670)\n",
      "HTTP Request: POST https://api.va.landing.ai/v1/tools/agentic-document-analysis \"HTTP/1.1 200 OK\" (_client.py:1025)\n",
      "2025-07-24 19:23:52 [info   ] Time taken to successfully parse a document chunk: 25.94 seconds [agentic_doc.parse] (parse.py:823)\n",
      "2025-07-24 19:23:52 [info   ] Successfully parsed document part: 'File name: HSC26-Bangla1st-Paper_4.pdf\tPage: [30:39]' [agentic_doc.parse] (parse.py:679)\n",
      "HTTP Request: POST https://api.va.landing.ai/v1/tools/agentic-document-analysis \"HTTP/1.1 200 OK\" (_client.py:1025)\n",
      "2025-07-24 19:23:54 [info   ] Time taken to successfully parse a document chunk: 27.81 seconds [agentic_doc.parse] (parse.py:823)\n",
      "2025-07-24 19:23:54 [info   ] Successfully parsed document part: 'File name: HSC26-Bangla1st-Paper_3.pdf\tPage: [20:29]' [agentic_doc.parse] (parse.py:679)\n",
      "HTTP Request: POST https://api.va.landing.ai/v1/tools/agentic-document-analysis \"HTTP/1.1 200 OK\" (_client.py:1025)\n",
      "2025-07-24 19:23:56 [info   ] Time taken to successfully parse a document chunk: 29.63 seconds [agentic_doc.parse] (parse.py:823)\n",
      "2025-07-24 19:23:56 [info   ] Successfully parsed document part: 'File name: HSC26-Bangla1st-Paper_5.pdf\tPage: [40:48]' [agentic_doc.parse] (parse.py:679)\n",
      "HTTP Request: POST https://api.va.landing.ai/v1/tools/agentic-document-analysis \"HTTP/1.1 200 OK\" (_client.py:1025)\n",
      "2025-07-24 19:24:15 [info   ] Time taken to successfully parse a document chunk: 48.81 seconds [agentic_doc.parse] (parse.py:823)\n",
      "2025-07-24 19:24:15 [info   ] Successfully parsed document part: 'File name: HSC26-Bangla1st-Paper_1.pdf\tPage: [0:9]' [agentic_doc.parse] (parse.py:679)\n"
     ]
    },
    {
     "name": "stderr",
     "output_type": "stream",
     "text": [
      "\n",
      "Parsing document parts from 'HSC26-Bangla1st-Paper.pdf':  20%|██        | 1/5 [00:48<03:15, 48.83s/it]"
     ]
    },
    {
     "name": "stdout",
     "output_type": "stream",
     "text": [
      "HTTP Request: POST https://api.va.landing.ai/v1/tools/agentic-document-analysis \"HTTP/1.1 200 OK\" (_client.py:1025)\n",
      "2025-07-24 19:24:18 [info   ] Time taken to successfully parse a document chunk: 51.99 seconds [agentic_doc.parse] (parse.py:823)\n",
      "2025-07-24 19:24:18 [info   ] Successfully parsed document part: 'File name: HSC26-Bangla1st-Paper_2.pdf\tPage: [10:19]' [agentic_doc.parse] (parse.py:679)\n"
     ]
    },
    {
     "name": "stderr",
     "output_type": "stream",
     "text": [
      "\n",
      "Parsing document parts from 'HSC26-Bangla1st-Paper.pdf': 100%|██████████| 5/5 [00:52<00:00, 10.41s/it]\n"
     ]
    },
    {
     "name": "stdout",
     "output_type": "stream",
     "text": [
      "2025-07-24 19:24:18 [info   ] Saved the parsed result to '..\\data\\processed\\HSC26-Bangla1st-Paper_20250725_012418.json' [agentic_doc.parse] (parse.py:467)\n"
     ]
    },
    {
     "name": "stderr",
     "output_type": "stream",
     "text": [
      "Parsing documents: 100%|██████████| 1/1 [00:52<00:00, 52.36s/it]\n"
     ]
    },
    {
     "name": "stdout",
     "output_type": "stream",
     "text": [
      "Final result: ..\\data\\processed\\HSC26-Bangla1st-Paper_20250725_012418.json\n"
     ]
    }
   ],
   "source": [
    "from agentic_doc.parse import parse\n",
    "\n",
    "result = parse(\"../data/raw/HSC26-Bangla1st-Paper.pdf\",\n",
    "               result_save_dir=\"../data/processed/\")\n",
    "\n",
    "print(f\"Final result: {result[0].result_path}\")"
   ]
  },
  {
   "cell_type": "code",
   "execution_count": null,
   "id": "10e1bc34",
   "metadata": {},
   "outputs": [],
   "source": [
    "import json\n",
    "\n",
    "with open(\"path/to/save/results/your_file.json\", \"r\") as f:\n",
    "    data = json.load(f)\n",
    "\n",
    "text_and_tables = [chunk for chunk in data[\"chunks\"]\n",
    "                   if chunk[\"chunk_type\"] in (\"text\", \"table\")]"
   ]
  }
 ],
 "metadata": {
  "kernelspec": {
   "display_name": "Python 3",
   "language": "python",
   "name": "python3"
  },
  "language_info": {
   "codemirror_mode": {
    "name": "ipython",
    "version": 3
   },
   "file_extension": ".py",
   "mimetype": "text/x-python",
   "name": "python",
   "nbconvert_exporter": "python",
   "pygments_lexer": "ipython3",
   "version": "3.13.5"
  }
 },
 "nbformat": 4,
 "nbformat_minor": 5
}
